{
  "nbformat": 4,
  "nbformat_minor": 0,
  "metadata": {
    "colab": {
      "provenance": [],
      "authorship_tag": "ABX9TyNTdUerpsk/BGKtnIwslMgg",
      "include_colab_link": true
    },
    "kernelspec": {
      "name": "python3",
      "display_name": "Python 3"
    },
    "language_info": {
      "name": "python"
    }
  },
  "cells": [
    {
      "cell_type": "markdown",
      "metadata": {
        "id": "view-in-github",
        "colab_type": "text"
      },
      "source": [
        "<a href=\"https://colab.research.google.com/github/Hemant2073/Hemant2073/blob/main/mini_project_zip.ipynb\" target=\"_parent\"><img src=\"https://colab.research.google.com/assets/colab-badge.svg\" alt=\"Open In Colab\"/></a>"
      ]
    },
    {
      "cell_type": "code",
      "execution_count": 90,
      "metadata": {
        "colab": {
          "base_uri": "https://localhost:8080/",
          "height": 419
        },
        "id": "Se47IuRj5Qwc",
        "outputId": "16704c0c-90c0-4d91-d4ab-9af668894ae3"
      },
      "outputs": [
        {
          "output_type": "stream",
          "name": "stdout",
          "text": [
            "Extraction folder already exists. Skipping extraction.\n",
            "Digit folders found directly in: extracted_data/Train\n",
            "Loaded 16994 images from extracted_data/Train.\n"
          ]
        },
        {
          "output_type": "display_data",
          "data": {
            "text/plain": [
              "<Figure size 400x400 with 1 Axes>"
            ],
            "image/png": "[encoded data removed]"
          },
          "metadata": {}
        }
      ],
      "source": [
        "\n",
        "import os\n",
        "import zipfile\n",
        "import cv2\n",
        "import numpy as np\n",
        "import matplotlib.pyplot as plt\n",
        "\n",
        "# -------------------------------\n",
        "# Step 1: Extract the Zip File\n",
        "# -------------------------------\n",
        "zip_file_path = \"Train_1.zip\"          # Path to your zip file\n",
        "extract_folder = \"extracted_data\"     # Folder where data will be extracted\n",
        "\n",
        "if not os.path.exists(extract_folder):\n",
        "    with zipfile.ZipFile(zip_file_path, 'r') as zip_ref:\n",
        "        zip_ref.extractall(extract_folder)\n",
        "    print(\"Zip file extracted to:\", extract_folder)\n",
        "else:\n",
        "    print(\"Extraction folder already exists. Skipping extraction.\")\n",
        "\n",
        "# -------------------------------\n",
        "# Step 2: Locate the Folder Containing Digit Folders\n",
        "# -------------------------------\n",
        "# Assume the extracted zip structure is:\n",
        "# extracted_data/Train/0, extracted_data/Train/1, ..., extracted_data/Train/9\n",
        "# If not, we look for subfolders within extracted_data/Train that contain digit folders.\n",
        "\n",
        "outer_folder = os.path.join(extract_folder, \"Train\")\n",
        "if not os.path.isdir(outer_folder):\n",
        "    raise ValueError(f\"Expected folder 'Train' not found in {extract_folder}\")\n",
        "\n",
        "# Check if outer_folder directly contains folders that are digits\n",
        "digit_folders = [d for d in os.listdir(outer_folder) if os.path.isdir(os.path.join(outer_folder, d)) and d.isdigit()]\n",
        "\n",
        "if digit_folders:\n",
        "    inner_folder = outer_folder\n",
        "    print(\"Digit folders found directly in:\", inner_folder)\n",
        "else:\n",
        "    # Otherwise, assume there's an extra layer. Use the first folder in outer_folder.\n",
        "    inner_candidates = [d for d in os.listdir(outer_folder) if os.path.isdir(os.path.join(outer_folder, d))]\n",
        "    if not inner_candidates:\n",
        "        raise ValueError(\"No subfolders found in the Train folder.\")\n",
        "    inner_folder = os.path.join(outer_folder, inner_candidates[0])\n",
        "    print(\"Using inner folder:\", inner_folder)\n",
        "\n",
        "# -------------------------------\n",
        "# Step 3: Load and Preprocess Images\n",
        "# -------------------------------\n",
        "data = []\n",
        "labels = []\n",
        "\n",
        "# Loop through subfolders \"0\" to \"9\" inside inner_folder\n",
        "for label in range(10):\n",
        "    folder_path = os.path.join(inner_folder, str(label))\n",
        "    if not os.path.isdir(folder_path):\n",
        "        print(f\"Folder {folder_path} not found. Skipping label {label}.\")\n",
        "        continue\n",
        "\n",
        "    for filename in os.listdir(folder_path):\n",
        "        file_path = os.path.join(folder_path, filename)\n",
        "        # Load the image in grayscale\n",
        "        img = cv2.imread(file_path, cv2.IMREAD_GRAYSCALE)\n",
        "        if img is None:\n",
        "            print(f\"Warning: Could not load image {file_path}. Skipping.\")\n",
        "            continue\n",
        "        # Resize the image to 28x28 pixels (adjust if needed)\n",
        "        img = cv2.resize(img, (28, 28))\n",
        "        # Normalize pixel values to [0,1]\n",
        "        img = img.astype('float32') / 255.0\n",
        "        data.append(img)\n",
        "        labels.append(label)\n",
        "\n",
        "# Convert lists to NumPy arrays\n",
        "data = np.array(data)\n",
        "labels = np.array(labels)\n",
        "\n",
        "# Add a channel dimension for grayscale images\n",
        "data = data.reshape(-1, 28, 28, 1)\n",
        "\n",
        "print(f\"Loaded {data.shape[0]} images from {inner_folder}.\")\n",
        "\n",
        "\n",
        "# -------------------------------\n",
        "# Step 3: Split Data into Training and Test Sets\n",
        "# -------------------------------\n",
        "X_train, X_test, y_train, y_test = train_test_split(\n",
        "    data, labels, test_size=0.2, random_state=42\n",
        ")\n",
        "plt.figure(figsize=(4,4))\n",
        "# Remove the channel dimension for displaying purposes (28,28,1) -> (28,28)\n",
        "plt.imshow(data[14050].reshape(28, 28), cmap='gray')\n",
        "plt.title(f\"Label: {labels[8]}\")\n",
        "plt.axis(\"off\")\n",
        "plt.show()"
      ]
    },
    {
      "cell_type": "code",
      "source": [],
      "metadata": {
        "id": "97QDJPoP-RLD"
      },
      "execution_count": null,
      "outputs": []
    },
    {
      "cell_type": "code",
      "source": [
        "model = Sequential([\n",
        "    Conv2D(32, (3, 3), activation='relu', input_shape=(28, 28, 1)),\n",
        "    MaxPooling2D((2, 2)),\n",
        "    Conv2D(64, (3, 3), activation='relu'),\n",
        "    MaxPooling2D((2, 2)),\n",
        "    Flatten(),\n",
        "    Dense(128, activation='relu'),\n",
        "    Dropout(0.5),\n",
        "    Dense(10, activation='softmax')  # 10 classes for digits 0-9\n",
        "])\n",
        "\n",
        "model.compile(optimizer='adam',\n",
        "              loss='sparse_categorical_crossentropy',\n",
        "              metrics=['accuracy'])\n",
        "\n",
        "# Train the model\n",
        "model.fit(X_train, y_train, epochs=10, validation_data=(X_test, y_test))\n",
        "\n",
        "# Evaluate the model on test data\n",
        "test_loss, test_acc = model.evaluate(X_test, y_test, verbose=2)\n",
        "print(f\"Test accuracy: {test_acc:.2f}\")\n",
        "\n",
        "# -------------------------------\n",
        "# Step 6: Save the Trained Model\n",
        "# -------------------------------\n",
        "model.save(\"hindi_digit_model.h5\")\n",
        "print(\"Training complete and model saved as hindi_digit_model.h5\")"
      ],
      "metadata": {
        "colab": {
          "base_uri": "https://localhost:8080/"
        },
        "id": "BbdtvPRl-RfK",
        "outputId": "8f23e3f8-d8a4-42ff-8bff-2d1e04eeb222"
      },
      "execution_count": 67,
      "outputs": [
        {
          "output_type": "stream",
          "name": "stderr",
          "text": [
            "/usr/local/lib/python3.11/dist-packages/keras/src/layers/convolutional/base_conv.py:107: UserWarning: Do not pass an `input_shape`/`input_dim` argument to a layer. When using Sequential models, prefer using an `Input(shape)` object as the first layer in the model instead.\n",
            "  super().__init__(activity_regularizer=activity_regularizer, **kwargs)\n"
          ]
        },
        {
          "output_type": "stream",
          "name": "stdout",
          "text": [
            "Epoch 1/10\n",
            "\u001b[1m425/425\u001b[0m \u001b[32m━━━━━━━━━━━━━━━━━━━━\u001b[0m\u001b[37m\u001b[0m \u001b[1m17s\u001b[0m 35ms/step - accuracy: 0.7199 - loss: 0.8405 - val_accuracy: 0.9800 - val_loss: 0.0735\n",
            "Epoch 2/10\n",
            "\u001b[1m425/425\u001b[0m \u001b[32m━━━━━━━━━━━━━━━━━━━━\u001b[0m\u001b[37m\u001b[0m \u001b[1m20s\u001b[0m 34ms/step - accuracy: 0.9596 - loss: 0.1290 - val_accuracy: 0.9841 - val_loss: 0.0482\n",
            "Epoch 3/10\n",
            "\u001b[1m425/425\u001b[0m \u001b[32m━━━━━━━━━━━━━━━━━━━━\u001b[0m\u001b[37m\u001b[0m \u001b[1m21s\u001b[0m 35ms/step - accuracy: 0.9724 - loss: 0.0845 - val_accuracy: 0.9897 - val_loss: 0.0376\n",
            "Epoch 4/10\n",
            "\u001b[1m425/425\u001b[0m \u001b[32m━━━━━━━━━━━━━━━━━━━━\u001b[0m\u001b[37m\u001b[0m \u001b[1m15s\u001b[0m 35ms/step - accuracy: 0.9834 - loss: 0.0544 - val_accuracy: 0.9865 - val_loss: 0.0403\n",
            "Epoch 5/10\n",
            "\u001b[1m425/425\u001b[0m \u001b[32m━━━━━━━━━━━━━━━━━━━━\u001b[0m\u001b[37m\u001b[0m \u001b[1m16s\u001b[0m 38ms/step - accuracy: 0.9829 - loss: 0.0529 - val_accuracy: 0.9929 - val_loss: 0.0291\n",
            "Epoch 6/10\n",
            "\u001b[1m425/425\u001b[0m \u001b[32m━━━━━━━━━━━━━━━━━━━━\u001b[0m\u001b[37m\u001b[0m \u001b[1m14s\u001b[0m 34ms/step - accuracy: 0.9888 - loss: 0.0358 - val_accuracy: 0.9950 - val_loss: 0.0237\n",
            "Epoch 7/10\n",
            "\u001b[1m425/425\u001b[0m \u001b[32m━━━━━━━━━━━━━━━━━━━━\u001b[0m\u001b[37m\u001b[0m \u001b[1m21s\u001b[0m 35ms/step - accuracy: 0.9915 - loss: 0.0275 - val_accuracy: 0.9947 - val_loss: 0.0241\n",
            "Epoch 8/10\n",
            "\u001b[1m425/425\u001b[0m \u001b[32m━━━━━━━━━━━━━━━━━━━━\u001b[0m\u001b[37m\u001b[0m \u001b[1m20s\u001b[0m 34ms/step - accuracy: 0.9929 - loss: 0.0256 - val_accuracy: 0.9921 - val_loss: 0.0303\n",
            "Epoch 9/10\n",
            "\u001b[1m425/425\u001b[0m \u001b[32m━━━━━━━━━━━━━━━━━━━━\u001b[0m\u001b[37m\u001b[0m \u001b[1m22s\u001b[0m 38ms/step - accuracy: 0.9927 - loss: 0.0248 - val_accuracy: 0.9932 - val_loss: 0.0234\n",
            "Epoch 10/10\n",
            "\u001b[1m425/425\u001b[0m \u001b[32m━━━━━━━━━━━━━━━━━━━━\u001b[0m\u001b[37m\u001b[0m \u001b[1m19s\u001b[0m 34ms/step - accuracy: 0.9923 - loss: 0.0238 - val_accuracy: 0.9941 - val_loss: 0.0227\n",
            "107/107 - 1s - 9ms/step - accuracy: 0.9941 - loss: 0.0227\n"
          ]
        },
        {
          "output_type": "stream",
          "name": "stderr",
          "text": [
            "WARNING:absl:You are saving your model as an HDF5 file via `model.save()` or `keras.saving.save_model(model)`. This file format is considered legacy. We recommend using instead the native Keras format, e.g. `model.save('my_model.keras')` or `keras.saving.save_model(model, 'my_model.keras')`. \n"
          ]
        },
        {
          "output_type": "stream",
          "name": "stdout",
          "text": [
            "Test accuracy: 0.99\n",
            "Training complete and model saved as hindi_digit_model.h5\n"
          ]
        }
      ]
    },
    {
      "cell_type": "code",
      "source": [
        "import numpy as np\n",
        "import cv2\n",
        "import tensorflow as tf\n",
        "from tensorflow.keras.models import load_model\n",
        "\n",
        "# Load the trained CNN model\n",
        "model = load_model(\"hindi_digit_model.h5\")\n",
        "\n",
        "def preprocess_image(image_path):\n",
        "    \"\"\"\n",
        "    Load and preprocess the image:\n",
        "    - Load in grayscale.\n",
        "    - Resize to 28x28.\n",
        "    - Normalize pixel values to [0, 1].\n",
        "    - Add channel and batch dimensions.\n",
        "    \"\"\"\n",
        "    # Load the image in grayscale mode\n",
        "    image = cv2.imread(image_path, cv2.IMREAD_GRAYSCALE)\n",
        "    if image is None:\n",
        "        raise ValueError(f\"Image at path {image_path} cannot be loaded.\")\n",
        "\n",
        "    # Resize image to 28x28 pixels\n",
        "    image = cv2.resize(image, (28, 28))\n",
        "\n",
        "    # Normalize pixel values to [0,1]\n",
        "    image = image.astype('float32') / 255.0\n",
        "\n",
        "    # Add channel dimension (to convert shape from (28,28) to (28,28,1))\n",
        "    image = np.expand_dims(image, axis=-1)\n",
        "\n",
        "    # Add batch dimension (model expects shape (batch_size, height, width, channels))\n",
        "    image = np.expand_dims(image, axis=0)\n",
        "\n",
        "    return image\n",
        "\n",
        "def predict_digit(image_path):\n",
        "    \"\"\"\n",
        "    Predict the digit from the given image.\n",
        "    Prints the predicted digit along with the model's confidence.\n",
        "    \"\"\"\n",
        "    image = preprocess_image(image_path)\n",
        "    prediction = model.predict(image)\n",
        "\n",
        "    # Get the predicted digit and confidence score\n",
        "    digit = np.argmax(prediction)\n",
        "    confidence = np.max(prediction)\n",
        "\n",
        "    print(f\"Predicted Digit: {digit} with confidence: {confidence:.2f}\")\n",
        "    return digit\n",
        "\n",
        "# Test the model with a sample image (update the path as needed)\n",
        "if __name__ == \"__main__\":\n",
        "    test_image_path = \"test_image7.png\"  # Replace with your grayscale image path\n",
        "    predict_digit(test_image_path)\n",
        "\n"
      ],
      "metadata": {
        "colab": {
          "base_uri": "https://localhost:8080/"
        },
        "id": "jxY3CtSx6gEm",
        "outputId": "62306f36-ac04-4bdf-b4ba-f361bc6af508"
      },
      "execution_count": 116,
      "outputs": [
        {
          "output_type": "stream",
          "name": "stderr",
          "text": [
            "WARNING:absl:Compiled the loaded model, but the compiled metrics have yet to be built. `model.compile_metrics` will be empty until you train or evaluate the model.\n"
          ]
        },
        {
          "output_type": "stream",
          "name": "stdout",
          "text": [
            "\u001b[1m1/1\u001b[0m \u001b[32m━━━━━━━━━━━━━━━━━━━━\u001b[0m\u001b[37m\u001b[0m \u001b[1m0s\u001b[0m 97ms/step\n",
            "Predicted Digit: 7 with confidence: 1.00\n"
          ]
        }
      ]
    },
    {
      "cell_type": "code",
      "source": [],
      "metadata": {
        "id": "9s0wYdhbB_Y2"
      },
      "execution_count": null,
      "outputs": []
    },
    {
      "cell_type": "code",
      "source": [],
      "metadata": {
        "id": "zfjbr-QiB_cW"
      },
      "execution_count": null,
      "outputs": []
    },
    {
      "cell_type": "markdown",
      "source": [
        "with grayscaling"
      ],
      "metadata": {
        "id": "L4Mq9HDvB_-d"
      }
    },
    {
      "cell_type": "code",
      "source": [
        "import cv2\n",
        "import numpy as np\n",
        "import tensorflow as tf\n",
        "from tensorflow.keras.models import load_model\n",
        "import matplotlib.pyplot as plt\n",
        "\n",
        "# Load the trained CNN model\n",
        "model = load_model(\"hindi_digit_model.h5\")\n",
        "\n",
        "def preprocess_and_threshold(image_path):\n",
        "    \"\"\"\n",
        "    Load an image from image_path, convert it to grayscale,\n",
        "    apply thresholding with inversion to get a white digit on a black background,\n",
        "    resize to 28x28, normalize pixel values, and add channel and batch dimensions.\n",
        "\n",
        "    Returns:\n",
        "        processed: The preprocessed image ready for model input (shape: (1, 28, 28, 1))\n",
        "        thresh_image: The thresholded 28x28 image (for display purposes)\n",
        "    \"\"\"\n",
        "    # Load the image in grayscale\n",
        "    image = cv2.imread(image_path, cv2.IMREAD_GRAYSCALE)\n",
        "    if image is None:\n",
        "        raise ValueError(f\"Could not load image from path: {image_path}\")\n",
        "\n",
        "    # Apply thresholding with inversion so that the digit becomes white and background black\n",
        "    threshold_value = 127  # You may adjust this value as needed\n",
        "    max_value = 255\n",
        "    _, thresh_image = cv2.threshold(image, threshold_value, max_value, cv2.THRESH_BINARY_INV)\n",
        "\n",
        "    # Resize the image to 28x28 pixels\n",
        "    thresh_image = cv2.resize(thresh_image, (28, 28))\n",
        "\n",
        "    # Normalize pixel values to [0, 1]\n",
        "    normalized = thresh_image.astype('float32') / 255.0\n",
        "\n",
        "    # Expand dimensions to add channel dimension (to get shape: (28, 28, 1))\n",
        "    processed = np.expand_dims(normalized, axis=-1)\n",
        "\n",
        "    # Expand dimensions to add batch dimension (final shape: (1, 28, 28, 1))\n",
        "    processed = np.expand_dims(processed, axis=0)\n",
        "\n",
        "    return processed, thresh_image\n",
        "\n",
        "def predict_digit(image_path):\n",
        "    \"\"\"\n",
        "    Preprocess the image from image_path and use the trained model to predict the digit.\n",
        "    Displays the thresholded image and prints the predicted digit along with the confidence.\n",
        "    \"\"\"\n",
        "    processed_image, thresh_image = preprocess_and_threshold(image_path)\n",
        "\n",
        "    # Display the processed thresholded image\n",
        "    plt.imshow(thresh_image, cmap='gray')\n",
        "    plt.title(\"Thresholded Image: White Digit on Black Background\")\n",
        "    plt.axis(\"off\")\n",
        "    plt.show()\n",
        "\n",
        "    # Predict using the model\n",
        "    prediction = model.predict(processed_image)\n",
        "    digit = np.argmax(prediction)\n",
        "    confidence = np.max(prediction)\n",
        "\n",
        "    print(f\"Predicted Digit: {digit} with confidence: {confidence:.2f}\")\n",
        "    return digit\n",
        "\n",
        "# Provide the path to your test image\n",
        "test_image_path = \"test_1_1.png\"  # Update with the actual path to your test image\n",
        "\n",
        "# Run the prediction function\n",
        "predict_digit(test_image_path)\n"
      ],
      "metadata": {
        "colab": {
          "base_uri": "https://localhost:8080/",
          "height": 517
        },
        "id": "SjibjtZ5CGDX",
        "outputId": "c38cdcc2-8cbd-4e8a-f349-58e5c65c515f"
      },
      "execution_count": 111,
      "outputs": [
        {
          "output_type": "stream",
          "name": "stderr",
          "text": [
            "WARNING:absl:Compiled the loaded model, but the compiled metrics have yet to be built. `model.compile_metrics` will be empty until you train or evaluate the model.\n"
          ]
        },
        {
          "output_type": "display_data",
          "data": {
            "text/plain": [
              "<Figure size 640x480 with 1 Axes>"
            ],
            "image/png": "[encoded data removed]"
          },
          "metadata": {}
        },
        {
          "output_type": "stream",
          "name": "stdout",
          "text": [
            "\u001b[1m1/1\u001b[0m \u001b[32m━━━━━━━━━━━━━━━━━━━━\u001b[0m\u001b[37m\u001b[0m \u001b[1m0s\u001b[0m 145ms/step\n",
            "Predicted Digit: 1 with confidence: 0.52\n"
          ]
        },
        {
          "output_type": "execute_result",
          "data": {
            "text/plain": [
              "np.int64(1)"
            ]
          },
          "metadata": {},
          "execution_count": 111
        }
      ]
    },
    {
      "cell_type": "code",
      "source": [
        "import cv2\n",
        "import matplotlib.pyplot as plt\n",
        "\n",
        "# Path to your test image\n",
        "test_image_path = \"test_7.png\"  # Update with your test image path\n",
        "\n",
        "# Load the image in grayscale\n",
        "image = cv2.imread(test_image_path, cv2.IMREAD_GRAYSCALE)\n",
        "if image is None:\n",
        "    raise ValueError(f\"Image at {test_image_path} could not be loaded.\")\n",
        "\n",
        "# Apply thresholding with inversion:\n",
        "# THRESH_BINARY_INV makes pixels below the threshold white and above the threshold black.\n",
        "# You might need to adjust the threshold value (e.g., 127) depending on your image.\n",
        "threshold_value = 127\n",
        "max_value = 255\n",
        "_, processed_image = cv2.threshold(image, threshold_value, max_value, cv2.THRESH_BINARY_INV)\n",
        "\n",
        "# Display the processed image (white digit on black background)\n",
        "plt.imshow(processed_image, cmap='gray')\n",
        "plt.title(\"Processed Image: White Digit on Black Background\")\n",
        "plt.axis(\"off\")\n",
        "plt.show()\n"
      ],
      "metadata": {
        "colab": {
          "base_uri": "https://localhost:8080/",
          "height": 359
        },
        "id": "LLZW8If7DkJt",
        "outputId": "fe415107-f28b-4827-9b26-face4237b5e6"
      },
      "execution_count": null,
      "outputs": [
        {
          "output_type": "display_data",
          "data": {
            "text/plain": [
              "<Figure size 640x480 with 1 Axes>"
            ],
            "image/png": "[encoded data removed]"
          },
          "metadata": {}
        }
      ]
    },
    {
      "cell_type": "code",
      "source": [
        "import os\n",
        "import shutil\n",
        "\n",
        "# Specify the folder you want to remove\n",
        "folder_path = '/content/extracted_data'  # Update with the correct folder path\n",
        "\n",
        "# Check if the folder exists and then remove it\n",
        "if os.path.exists(folder_path):\n",
        "    shutil.rmtree(folder_path)\n",
        "    print(f\"Folder '{folder_path}' has been removed.\")\n",
        "else:\n",
        "    print(f\"Folder '{folder_path}' does not exist.\")\n"
      ],
      "metadata": {
        "colab": {
          "base_uri": "https://localhost:8080/"
        },
        "id": "OdbCBONtSxcw",
        "outputId": "3b17895c-5bea-4f4d-a37e-1cb2ee5237e1"
      },
      "execution_count": 65,
      "outputs": [
        {
          "output_type": "stream",
          "name": "stdout",
          "text": [
            "Folder '/content/extracted_data' has been removed.\n"
          ]
        }
      ]
    }
  ]
}